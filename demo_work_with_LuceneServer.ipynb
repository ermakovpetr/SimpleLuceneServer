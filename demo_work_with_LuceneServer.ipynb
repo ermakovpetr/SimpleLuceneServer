{
 "cells": [
  {
   "cell_type": "code",
   "execution_count": 15,
   "metadata": {
    "collapsed": true
   },
   "outputs": [],
   "source": [
    "import requests\n",
    "import json"
   ]
  },
  {
   "cell_type": "code",
   "execution_count": 9,
   "metadata": {
    "collapsed": true
   },
   "outputs": [],
   "source": [
    "BASE_URL = 'http://localhost:8080/LuceneServer/server/'\n",
    "FOLDER_WITH_DOCS = '/home/ermakovpetr/for_index'"
   ]
  },
  {
   "cell_type": "markdown",
   "metadata": {
    "collapsed": true
   },
   "source": [
    "# Создание Индекса"
   ]
  },
  {
   "cell_type": "code",
   "execution_count": 10,
   "metadata": {
    "collapsed": false
   },
   "outputs": [],
   "source": [
    "params = {\n",
    "    'pathtocorpus': FOLDER_WITH_DOCS,\n",
    "    'byline': 'yes', # 'no'\n",
    "    'similarity': 'default', # 'bm25' 'classic' 'lmd'\n",
    "}"
   ]
  },
  {
   "cell_type": "code",
   "execution_count": null,
   "metadata": {
    "collapsed": false
   },
   "outputs": [],
   "source": [
    "%%time\n",
    "resp = requests.get(BASE_URL + 'create_index', params=params)\n",
    "assert resp.status_code == 200\n",
    "\n",
    "print json.dumps(resp.json(), sort_keys=True, indent=4, separators=(',', ': '))"
   ]
  },
  {
   "cell_type": "markdown",
   "metadata": {
    "collapsed": true
   },
   "source": [
    "# Запросы за скором"
   ]
  },
  {
   "cell_type": "code",
   "execution_count": 16,
   "metadata": {
    "collapsed": true
   },
   "outputs": [],
   "source": [
    "N = 10\n",
    "query = 'blood pressure'\n",
    "\n",
    "params = {\n",
    "    'pathtocorpus': FOLDER_WITH_DOCS,\n",
    "    'returndocs': 'yes', # 'no'\n",
    "    'nresult': N, \n",
    "    'query': query,\n",
    "}"
   ]
  },
  {
   "cell_type": "code",
   "execution_count": 17,
   "metadata": {
    "collapsed": false
   },
   "outputs": [
    {
     "name": "stdout",
     "output_type": "stream",
     "text": [
      "{\n",
      "    \"docList\": [\n",
      "        \"\\tInvasive Blood Pressure, a blood pressure-related topic.\",\n",
      "        \"\\t BLP (Blood Pressure Profile)\\u2014 for blood pressure measurement.\",\n",
      "        \"\\t Arterial blood pressure, the blood pressure in the arteries\",\n",
      "        \"\\t Controlling blood pressure and blood sugars\",\n",
      "        \"\\t Blood pressure\",\n",
      "        \"\\tBlood pressure\",\n",
      "        \"\\t Blood pressure cuff (Sphygmometer)\",\n",
      "        \"\\t Blood pressure\",\n",
      "        \"\\t Blood pressure\",\n",
      "        \"\\tBlood pressure fluctuations \"\n",
      "    ],\n",
      "    \"scoresList\": [\n",
      "        18.528149,\n",
      "        18.516243,\n",
      "        18.516243,\n",
      "        18.42242,\n",
      "        18.330145,\n",
      "        18.330145,\n",
      "        18.330145,\n",
      "        18.330145,\n",
      "        18.330145,\n",
      "        18.330145\n",
      "    ]\n",
      "}\n",
      "CPU times: user 4 ms, sys: 0 ns, total: 4 ms\n",
      "Wall time: 4.36 s\n"
     ]
    }
   ],
   "source": [
    "%%time\n",
    "resp = requests.get(BASE_URL + 'get_score', params=params)\n",
    "assert resp.status_code == 200\n",
    "\n",
    "print json.dumps(resp.json(), sort_keys=True, indent=4, separators=(',', ': '))"
   ]
  }
 ],
 "metadata": {
  "kernelspec": {
   "display_name": "Python 2",
   "language": "python",
   "name": "python2"
  },
  "language_info": {
   "codemirror_mode": {
    "name": "ipython",
    "version": 2
   },
   "file_extension": ".py",
   "mimetype": "text/x-python",
   "name": "python",
   "nbconvert_exporter": "python",
   "pygments_lexer": "ipython2",
   "version": "2.7.3"
  }
 },
 "nbformat": 4,
 "nbformat_minor": 0
}
